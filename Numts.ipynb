{
 "cells": [
  {
   "cell_type": "code",
   "execution_count": 1,
   "id": "96038826",
   "metadata": {},
   "outputs": [],
   "source": [
    "import gzip\n",
    "import numpy\n",
    "import json\n",
    "import matplotlib.pyplot as plot\n",
    "import AGG"
   ]
  },
  {
   "cell_type": "code",
   "execution_count": 2,
   "id": "0f0209ae",
   "metadata": {},
   "outputs": [],
   "source": [
    "crossmap = '/home/suhang/newdisk/mito_ccs_read_analyzer/output/crossmap_queries.names'"
   ]
  },
  {
   "cell_type": "code",
   "execution_count": 6,
   "id": "5557f5c4",
   "metadata": {},
   "outputs": [],
   "source": [
    "def loadFasta(filename):\n",
    "    \"\"\" Parses a classically formatted and possibly \n",
    "        compressed FASTA file into a list of headers \n",
    "        and fragment sequences for each sequence contained.\n",
    "        The resulting sequences are 0-indexed! \"\"\"\n",
    "    if (filename.endswith(\".gz\")):\n",
    "        fp = gzip.open(filename, 'rb')\n",
    "    else:\n",
    "        fp = open(filename, 'rb')\n",
    "    # split at headers\n",
    "    data = fp.read().decode().split('>')\n",
    "    fp.close()\n",
    "    # ignore whatever appears before the 1st header\n",
    "    data.pop(0)     \n",
    "    headers = []\n",
    "    sequences = []\n",
    "    for sequence in data:\n",
    "        lines = sequence.split('\\n')\n",
    "        headers.append(lines.pop(0))\n",
    "        sequences.append(''.join(lines))\n",
    "    return (headers, sequences)\n",
    "\n",
    "def loadFastq(filename):\n",
    "    \"\"\" Parses a classically formatted and possibly \n",
    "        compressed FASTA file into a list of headers \n",
    "        and fragment sequences for each sequence contained.\n",
    "        The resulting sequences are 0-indexed! \"\"\"\n",
    "    if (filename.endswith(\".gz\")):\n",
    "        fp = gzip.open(filename, 'rb')\n",
    "    else:\n",
    "        fp = open(filename, 'rb')\n",
    "    # split at headers\n",
    "    data = fp.read().decode().split('@')\n",
    "    fp.close()\n",
    "    # ignore whatever appears before the 1st header\n",
    "    data.pop(0)     \n",
    "    headers = []\n",
    "    sequences = []\n",
    "    for sequence in data:\n",
    "        lines = sequence.split('\\n')\n",
    "        if len(lines) == 4:\n",
    "            headers.append(lines[0])\n",
    "            sequences.append(lines[1])\n",
    "    return (headers, sequences)\n",
    "\n",
    "def writeFasta(filename, header, sequence, length = 60):\n",
    "    with open(filename, 'w') as fp:\n",
    "        for i, h in enumerate(header):\n",
    "            fp.write(\">\" + h + \"\\n\")\n",
    "            seq = sequence[i]\n",
    "            l = len(seq)//length\n",
    "            for i in range(l):\n",
    "                fp.write(seq[i*length:(i+1)*length] + '\\n')\n",
    "            fp.write(seq[(i+1)*length:] + '\\n')"
   ]
  },
  {
   "cell_type": "code",
   "execution_count": 7,
   "id": "b32d06cc",
   "metadata": {},
   "outputs": [],
   "source": [
    "headers, sequences = loadFasta('/home/suhang/assembly_disk/Mitochondrial/HPRC_46/kmer31/all.fasta')\n",
    "#headers, sequences = loadFastq(\"/home/suhang/newdisk/mito_ccs_read_analyzer/output/Bifrost_k31_46sample.fastq.gz\")"
   ]
  },
  {
   "cell_type": "code",
   "execution_count": 8,
   "id": "a56f11b9",
   "metadata": {},
   "outputs": [
    {
     "data": {
      "text/plain": [
       "(8286, True, 11922)"
      ]
     },
     "execution_count": 8,
     "metadata": {},
     "output_type": "execute_result"
    }
   ],
   "source": [
    "len(sequences[0]), len(headers) == len(sequences), len(headers)"
   ]
  },
  {
   "cell_type": "code",
   "execution_count": 12,
   "id": "c8388ac1",
   "metadata": {},
   "outputs": [
    {
     "data": {
      "text/plain": [
       "0"
      ]
     },
     "execution_count": 12,
     "metadata": {},
     "output_type": "execute_result"
    }
   ],
   "source": [
    "#headers\n",
    "# len(crossmap)\n",
    "len(set(headers) & set(readnames))"
   ]
  },
  {
   "cell_type": "code",
   "execution_count": 13,
   "id": "64d578a8",
   "metadata": {},
   "outputs": [],
   "source": [
    "for h in headers:\n",
    "    if h == 'm54329U_190607_185248/140444542/ccs':\n",
    "        print(h)"
   ]
  },
  {
   "cell_type": "code",
   "execution_count": 14,
   "id": "80e3d30d",
   "metadata": {},
   "outputs": [
    {
     "data": {
      "text/plain": [
       "0"
      ]
     },
     "execution_count": 14,
     "metadata": {},
     "output_type": "execute_result"
    }
   ],
   "source": [
    "with open(crossmap, 'r') as fp:\n",
    "    data = fp.readlines()\n",
    "readnames = [r[:-1] for r in data]\n",
    "len(set(readnames) & set(headers))"
   ]
  },
  {
   "cell_type": "code",
   "execution_count": 15,
   "id": "b5dca987",
   "metadata": {},
   "outputs": [
    {
     "data": {
      "text/plain": [
       "1173"
      ]
     },
     "execution_count": 15,
     "metadata": {},
     "output_type": "execute_result"
    }
   ],
   "source": [
    "readnames = set(readnames)\n",
    "len(set(readnames))"
   ]
  },
  {
   "cell_type": "code",
   "execution_count": 16,
   "id": "224d1762",
   "metadata": {},
   "outputs": [
    {
     "data": {
      "text/plain": [
       "296"
      ]
     },
     "execution_count": 16,
     "metadata": {},
     "output_type": "execute_result"
    }
   ],
   "source": [
    "indexlist = []\n",
    "for i, h in enumerate(headers):\n",
    "    nh = \"_\".join(h.split(\"_\")[:-1])\n",
    "    if nh in readnames:\n",
    "        indexlist.append(i)\n",
    "len(indexlist)"
   ]
  },
  {
   "cell_type": "code",
   "execution_count": 17,
   "id": "a1e2fd6e",
   "metadata": {},
   "outputs": [],
   "source": [
    "newheaders = [headers[i] for i in indexlist]\n",
    "newsequences = [sequences[i] for i in indexlist]"
   ]
  },
  {
   "cell_type": "code",
   "execution_count": 18,
   "id": "52f460b5",
   "metadata": {},
   "outputs": [],
   "source": [
    "writeFasta('numts296.fasta', newheaders, newsequences, length = 60)"
   ]
  },
  {
   "cell_type": "markdown",
   "id": "3fdf6cc6",
   "metadata": {},
   "source": [
    "# graphs"
   ]
  },
  {
   "cell_type": "code",
   "execution_count": 19,
   "id": "c9cedb42",
   "metadata": {},
   "outputs": [],
   "source": [
    "filename = './test.gfa'\n",
    "graph = AGG.GraphicalGenome(filename)"
   ]
  },
  {
   "cell_type": "code",
   "execution_count": 20,
   "id": "4ad19a72",
   "metadata": {},
   "outputs": [],
   "source": [
    "edgelist = graph.edges.keys()\n",
    "subgraph_edge = {}\n",
    "\n",
    "for edge in edgelist:\n",
    "    readset =  graph.edges[edge]['reads']\n",
    "    readset = set([\"_\".join(read.split(\"_\")[:-1]) for read in readset])\n",
    "    if len(readset & readnames) > 1:\n",
    "        subgraph_edge[edge] = graph.edges[edge]\n",
    "        subgraph_edge[edge]['reads'] = list(readset & readnames)"
   ]
  },
  {
   "cell_type": "code",
   "execution_count": 21,
   "id": "1dc5fce7",
   "metadata": {},
   "outputs": [
    {
     "data": {
      "text/plain": [
       "(dict_keys(['reads', 'strain', 'seq']), dict_keys(['pos', 'seq']))"
      ]
     },
     "execution_count": 21,
     "metadata": {},
     "output_type": "execute_result"
    }
   ],
   "source": [
    "graph.edges['E00000.0001'].keys(), graph.anchor['A000001'].keys()"
   ]
  },
  {
   "cell_type": "code",
   "execution_count": 29,
   "id": "b17e3e5c",
   "metadata": {},
   "outputs": [],
   "source": [
    "R_set = set(newheaders)"
   ]
  },
  {
   "cell_type": "code",
   "execution_count": 30,
   "id": "5a38a010",
   "metadata": {},
   "outputs": [],
   "source": [
    "edgelist = sorted(graph.edges.keys())\n",
    "numts_readname = []\n",
    "for edge in edgelist:\n",
    "    reads = graph.edges[edge]['reads']\n",
    "    if len(set(reads) & R_set)>0:\n",
    "        numts_readname.append(edge)"
   ]
  },
  {
   "cell_type": "code",
   "execution_count": 33,
   "id": "8383b4d2",
   "metadata": {},
   "outputs": [],
   "source": [
    "numts_read_num = [len(graph.edges[edge]['reads']) for edge in numts_readname]\n",
    "all_read_num = [len(graph.edges[edge]['reads']) for edge in edgelist]"
   ]
  },
  {
   "cell_type": "code",
   "execution_count": 45,
   "id": "f62fef72",
   "metadata": {},
   "outputs": [
    {
     "name": "stderr",
     "output_type": "stream",
     "text": [
      "/tmp/ipykernel_20072/220152591.py:4: RuntimeWarning: divide by zero encountered in log10\n",
      "  plot.plot(x[:-1], numpy.log10(y))\n",
      "/tmp/ipykernel_20072/220152591.py:5: RuntimeWarning: divide by zero encountered in log10\n",
      "  plot.plot(x1[:-1], numpy.log10(y1))\n"
     ]
    },
    {
     "data": {
      "text/plain": [
       "[<matplotlib.lines.Line2D at 0x7f60e32fdb10>]"
      ]
     },
     "execution_count": 45,
     "metadata": {},
     "output_type": "execute_result"
    },
    {
     "data": {
      "image/png": "[encoded data removed]",
      "text/plain": [
       "<Figure size 640x480 with 1 Axes>"
      ]
     },
     "metadata": {},
     "output_type": "display_data"
    }
   ],
   "source": [
    "y,x = numpy.histogram(all_read_num, range = [0,200], bins = 50)\n",
    "y1, x1 = numpy.histogram(numts_read_num, range = [0,200], bins = 50)\n",
    "\n",
    "plot.plot(x[:-1], numpy.log10(y))\n",
    "plot.plot(x1[:-1], numpy.log10(y1))"
   ]
  },
  {
   "cell_type": "code",
   "execution_count": 22,
   "id": "7b7b2f7a",
   "metadata": {},
   "outputs": [],
   "source": [
    "# write_gfa(graph, graph.anchor, subgraph_edge, \"./numts.gfa\")"
   ]
  },
  {
   "cell_type": "code",
   "execution_count": null,
   "id": "41629039",
   "metadata": {},
   "outputs": [],
   "source": []
  }
 ],
 "metadata": {
  "kernelspec": {
   "display_name": "Python 3 (ipykernel)",
   "language": "python",
   "name": "python3"
  },
  "language_info": {
   "codemirror_mode": {
    "name": "ipython",
    "version": 3
   },
   "file_extension": ".py",
   "mimetype": "text/x-python",
   "name": "python",
   "nbconvert_exporter": "python",
   "pygments_lexer": "ipython3",
   "version": "3.11.4"
  }
 },
 "nbformat": 4,
 "nbformat_minor": 5
}
