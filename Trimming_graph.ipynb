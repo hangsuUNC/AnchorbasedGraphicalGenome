{
 "cells": [
  {
   "cell_type": "markdown",
   "id": "e0085f9a",
   "metadata": {},
   "source": [
    "# delete all the source and sink edges, keep the circle\n",
    "\n",
    "# merge under represented path to the major paths"
   ]
  },
  {
   "cell_type": "code",
   "execution_count": 1,
   "id": "a257522d",
   "metadata": {},
   "outputs": [],
   "source": [
    "import sys\n",
    "#sys.path.append(\"/usr/local/lib/python3.11/site-packages\")\n",
    "import subprocess\n",
    "#import networkx as nx\n",
    "import gzip\n",
    "#import pyfrost\n",
    "import numpy\n",
    "from collections import defaultdict\n",
    "import matplotlib.pyplot as plot\n",
    "#import CCGG_extension as CCGG\n",
    "import json\n",
    "import AGG\n",
    "import pandas as pd\n",
    "#import py4cytoscape as p4c\n",
    "import pysam"
   ]
  },
  {
   "cell_type": "markdown",
   "id": "eafecd4c",
   "metadata": {},
   "source": [
    "# delete SOURCE and SINK Edges\n"
   ]
  },
  {
   "cell_type": "code",
   "execution_count": 2,
   "id": "071686c7",
   "metadata": {},
   "outputs": [],
   "source": [
    "filename = './hprc_anchor_graphical_genome_k31.gfa'\n",
    "graph = AGG.GraphicalGenome(filename)\n"
   ]
  },
  {
   "cell_type": "code",
   "execution_count": 8,
   "id": "1d99efd7",
   "metadata": {},
   "outputs": [
    {
     "data": {
      "text/plain": [
       "(128, 3188)"
      ]
     },
     "execution_count": 8,
     "metadata": {},
     "output_type": "execute_result"
    }
   ],
   "source": [
    "edgelist = graph.outgoing['SOURCE'] + graph.incoming['SINK']\n",
    "len(edgelist), len(\"\".join([graph.edges[edge]['seq'] for edge in edgelist]))\n"
   ]
  },
  {
   "cell_type": "code",
   "execution_count": 9,
   "id": "a176feb5",
   "metadata": {},
   "outputs": [],
   "source": [
    "for edge in edgelist:\n",
    "    del graph.edges[edge]"
   ]
  },
  {
   "cell_type": "markdown",
   "id": "dd2d605d",
   "metadata": {},
   "source": [
    "# Identify under-represented edges"
   ]
  },
  {
   "cell_type": "code",
   "execution_count": 29,
   "id": "cc750e5c",
   "metadata": {},
   "outputs": [],
   "source": [
    "def find_all_reads(graph):\n",
    "    read_sets = set()\n",
    "    edgelist = graph.edges.keys()\n",
    "    for item in edgelist:\n",
    "        readlist = graph.edges[item]['reads']\n",
    "        for read in readlist:\n",
    "            read_sets.add(read)\n",
    "    return read_sets\n",
    "\n",
    "read_sets = find_all_reads(graph)\n",
    "read_num = len(read_sets)"
   ]
  },
  {
   "cell_type": "code",
   "execution_count": 33,
   "id": "39e01f4e",
   "metadata": {},
   "outputs": [
    {
     "name": "stdout",
     "output_type": "stream",
     "text": [
      "0.0001 6 0.0005592841163310962\n",
      "0.0005 2858 0.2664056674123788\n",
      "0.05 10285 0.9587061894108874\n"
     ]
    }
   ],
   "source": [
    "\n",
    "nodelist = graph.anchor.keys()\n",
    "thresholdlist = [0.0001, 0.0005, 0.05]\n",
    "edgelist = list(graph.edges.keys())\n",
    "for threshold in thresholdlist:\n",
    "    under_represented_edges = []\n",
    "    for edge in edgelist:\n",
    "        reads = graph.edges[edge]['reads']\n",
    "        if len(reads) < read_num * threshold:\n",
    "            under_represented_edges.append(edge)\n",
    "    print(threshold, len(under_represented_edges), len(under_represented_edges)/float(len(edgelist)))"
   ]
  },
  {
   "cell_type": "code",
   "execution_count": 52,
   "id": "17bb93d7",
   "metadata": {},
   "outputs": [
    {
     "name": "stdout",
     "output_type": "stream",
     "text": [
      "0.05 10285 0.9587061894108874\n"
     ]
    }
   ],
   "source": [
    "# Randomly select one\n",
    "threshold = 0.05\n",
    "under_represented_edges = []\n",
    "for edge in edgelist:\n",
    "    reads = graph.edges[edge]['reads']\n",
    "    if len(reads) < read_num * threshold:\n",
    "        under_represented_edges.append(edge)\n",
    "print(threshold, len(under_represented_edges), len(under_represented_edges)/float(len(edgelist)))"
   ]
  },
  {
   "cell_type": "code",
   "execution_count": 53,
   "id": "5daa6175",
   "metadata": {},
   "outputs": [
    {
     "data": {
      "text/plain": [
       "596.0"
      ]
     },
     "execution_count": 53,
     "metadata": {},
     "output_type": "execute_result"
    }
   ],
   "source": [
    "read_num * threshold"
   ]
  },
  {
   "cell_type": "markdown",
   "id": "290be9b1",
   "metadata": {},
   "source": [
    "# Merge under-represented edges"
   ]
  },
  {
   "cell_type": "code",
   "execution_count": 55,
   "id": "1dba39e5",
   "metadata": {},
   "outputs": [],
   "source": [
    "for edge in under_represented_edges:\n",
    "    src = graph.incoming[edge][0]\n",
    "    dst = graph.outgoing[edge][0]\n",
    "    break"
   ]
  },
  {
   "cell_type": "markdown",
   "id": "8ca7ce37",
   "metadata": {},
   "source": [
    "# get Series Parallele Graph"
   ]
  },
  {
   "cell_type": "code",
   "execution_count": null,
   "id": "8b42d110",
   "metadata": {},
   "outputs": [],
   "source": []
  },
  {
   "cell_type": "code",
   "execution_count": 49,
   "id": "4dd02b44",
   "metadata": {},
   "outputs": [],
   "source": [
    "class Find_all_Path_between_anchors:\n",
    "    def __init__(self, graph, start, end, read_sets):\n",
    "        self.subpath = []\n",
    "        self.initial_set = read_sets\n",
    "        self.find_path(graph, start, end, [], 0, self.initial_set)\n",
    "        \n",
    "    def find_path(self, g, start, end, sofar, depth, readset):\n",
    "        \n",
    "        if start == end:\n",
    "            sofar1 = sofar + [end]\n",
    "            if len(readset)>0:\n",
    "                self.subpath.append((sofar1, readset))\n",
    "            return\n",
    "        \n",
    "        # path not supported\n",
    "        if len(readset) <1:\n",
    "            return  \n",
    "        \n",
    "        # path not circular\n",
    "        if start == \"SINK\":\n",
    "            return\n",
    "        \n",
    "        depth1 = depth+ 1\n",
    "        \n",
    "        \n",
    "        for dst in g.outgoing[start]:   \n",
    "            # consider the read set in the latest 10 intervals\n",
    "            if dst.startswith(\"E\"):\n",
    "                readset1 = readset & set(g.edges[dst]['reads'])\n",
    "            else:\n",
    "                readset1 = readset\n",
    "             \n",
    "            self.find_path(g, dst, end, sofar = sofar + [start], depth = depth1, readset = readset1)\n",
    "            \n",
    "def reconstruct_path_seq(graph, path):\n",
    "    seq = \"\"\n",
    "    for item in path:\n",
    "        if item.startswith('A'):\n",
    "            seq += graph.anchor[item]['seq']\n",
    "        elif item.startswith(\"E\"):\n",
    "            seq += graph.edges[item]['seq']\n",
    "        else:\n",
    "            item += \"\"\n",
    "    return seq"
   ]
  },
  {
   "cell_type": "code",
   "execution_count": 50,
   "id": "f7658e92",
   "metadata": {},
   "outputs": [],
   "source": [
    "class Get_Series_Parallel_Graph:\n",
    "    \n",
    "    def __init__(self, graph, read_set):\n",
    "        self.initial_set = read_set\n",
    "        self.nodelist = self.series_parallel_graph_nodelist(graph)\n",
    "        print(self.nodelist)\n",
    "        self.anchor, self.edges, self.outgoing, self.incoming = self.series_parallel_graph(self.nodelist, graph)\n",
    "    \n",
    "    def series_parallel_graph_nodelist(self, subgraph):\n",
    "        start_node = sorted(subgraph.anchor.keys())[0]\n",
    "        Nodelist = [start_node]\n",
    "\n",
    "        edgelist = subgraph.outgoing[start_node]\n",
    "        node_candidate = []\n",
    "        for edge in edgelist:\n",
    "            nodelist = subgraph.outgoing[edge]\n",
    "            node_candidate += nodelist\n",
    "            if nodelist[0] not in subgraph.anchor:\n",
    "                    continue\n",
    "        node_candidate = sorted(node_candidate)\n",
    "        node = node_candidate[-1]\n",
    "        Nodelist.append(node) # append the furthest node\n",
    "        \n",
    "        node_avoid_set = set()\n",
    "\n",
    "        while node != start_node:\n",
    "            edgelist = subgraph.outgoing[node]\n",
    "            node_candidate = []\n",
    "            for edge in edgelist:\n",
    "                nodelist = subgraph.outgoing[edge]\n",
    "                # exclude deadend\n",
    "                if \"SINK\" in nodelist:\n",
    "                    continue\n",
    "                if nodelist[0] not in subgraph.anchor:\n",
    "                    continue\n",
    "                if nodelist[0] not in subgraph.outgoing:\n",
    "                    continue\n",
    "#                 if nodelist[0] in node_avoid_set:\n",
    "#                     continue\n",
    "                node_candidate += nodelist\n",
    "#             if len(node_candidate) < 1:\n",
    "#                 Nodelist.remove(node)\n",
    "#                 node_avoid_set.add(node)\n",
    "#                 node = Nodelist[-1]\n",
    "#             else:\n",
    "            node_candidate = sorted(node_candidate)\n",
    "            node = node_candidate[-1]\n",
    "            Nodelist.append(node) # append the furthest node  \n",
    "                \n",
    "        return Nodelist\n",
    "    \n",
    "    def series_parallel_graph(self, Nodelist, subgraph):\n",
    "        Node_dict = {}\n",
    "        Edge_dict = {}\n",
    "        Outgoing_dict = {}\n",
    "        Incoming_dict = {}\n",
    "        for i, node in enumerate(Nodelist[:-1]):\n",
    "            start_node = node\n",
    "            end_node = Nodelist[i+1]\n",
    "            Node_dict[start_node] = subgraph.anchor[start_node]\n",
    "\n",
    "            path = Find_all_Path_between_anchors(subgraph, start_node, end_node, read_sets)\n",
    "            #print(start_node,end_node, len(path.subpath))\n",
    "            index = 0\n",
    "            for p, rs in path.subpath:\n",
    "                edgename = 'E%05d.%04d' % (int(start_node[1:]), index)\n",
    "                seq = reconstruct_path_seq(subgraph, p[1:-1])\n",
    "                Edge_dict[edgename] = {}\n",
    "                Edge_dict[edgename]['seq'] = seq\n",
    "                Edge_dict[edgename]['src'] = start_node\n",
    "                Edge_dict[edgename]['dst'] = end_node\n",
    "\n",
    "                Outgoing_dict[start_node] = Outgoing_dict.get(start_node, []) + [edgename]\n",
    "                Outgoing_dict[edgename] = [end_node]\n",
    "\n",
    "                Incoming_dict[end_node] = Incoming_dict.get(end_node, []) + [edgename]\n",
    "                Incoming_dict[edgename] = [start_node]\n",
    "        return Node_dict, Edge_dict, Outgoing_dict, Incoming_dict"
   ]
  },
  {
   "cell_type": "code",
   "execution_count": 51,
   "id": "e74886f2",
   "metadata": {},
   "outputs": [
    {
     "ename": "KeyboardInterrupt",
     "evalue": "",
     "output_type": "error",
     "traceback": [
      "\u001b[0;31m---------------------------------------------------------------------------\u001b[0m",
      "\u001b[0;31mKeyboardInterrupt\u001b[0m                         Traceback (most recent call last)",
      "\u001b[0;32m/var/folders/ws/928zzdt94qn3749jx20228j80000gq/T/ipykernel_16169/1696719571.py\u001b[0m in \u001b[0;36m<module>\u001b[0;34m\u001b[0m\n\u001b[0;32m----> 1\u001b[0;31m \u001b[0mseries_parallelgraph\u001b[0m \u001b[0;34m=\u001b[0m \u001b[0mGet_Series_Parallel_Graph\u001b[0m\u001b[0;34m(\u001b[0m\u001b[0mgraph\u001b[0m\u001b[0;34m,\u001b[0m \u001b[0mread_sets\u001b[0m\u001b[0;34m)\u001b[0m\u001b[0;34m\u001b[0m\u001b[0;34m\u001b[0m\u001b[0m\n\u001b[0m",
      "\u001b[0;32m/var/folders/ws/928zzdt94qn3749jx20228j80000gq/T/ipykernel_16169/3475413902.py\u001b[0m in \u001b[0;36m__init__\u001b[0;34m(self, graph, read_set)\u001b[0m\n\u001b[1;32m      3\u001b[0m     \u001b[0;32mdef\u001b[0m \u001b[0m__init__\u001b[0m\u001b[0;34m(\u001b[0m\u001b[0mself\u001b[0m\u001b[0;34m,\u001b[0m \u001b[0mgraph\u001b[0m\u001b[0;34m,\u001b[0m \u001b[0mread_set\u001b[0m\u001b[0;34m)\u001b[0m\u001b[0;34m:\u001b[0m\u001b[0;34m\u001b[0m\u001b[0;34m\u001b[0m\u001b[0m\n\u001b[1;32m      4\u001b[0m         \u001b[0mself\u001b[0m\u001b[0;34m.\u001b[0m\u001b[0minitial_set\u001b[0m \u001b[0;34m=\u001b[0m \u001b[0mread_set\u001b[0m\u001b[0;34m\u001b[0m\u001b[0;34m\u001b[0m\u001b[0m\n\u001b[0;32m----> 5\u001b[0;31m         \u001b[0mself\u001b[0m\u001b[0;34m.\u001b[0m\u001b[0mnodelist\u001b[0m \u001b[0;34m=\u001b[0m \u001b[0mself\u001b[0m\u001b[0;34m.\u001b[0m\u001b[0mseries_parallel_graph_nodelist\u001b[0m\u001b[0;34m(\u001b[0m\u001b[0mgraph\u001b[0m\u001b[0;34m)\u001b[0m\u001b[0;34m\u001b[0m\u001b[0;34m\u001b[0m\u001b[0m\n\u001b[0m\u001b[1;32m      6\u001b[0m         \u001b[0mprint\u001b[0m\u001b[0;34m(\u001b[0m\u001b[0mself\u001b[0m\u001b[0;34m.\u001b[0m\u001b[0mnodelist\u001b[0m\u001b[0;34m)\u001b[0m\u001b[0;34m\u001b[0m\u001b[0;34m\u001b[0m\u001b[0m\n\u001b[1;32m      7\u001b[0m         \u001b[0mself\u001b[0m\u001b[0;34m.\u001b[0m\u001b[0manchor\u001b[0m\u001b[0;34m,\u001b[0m \u001b[0mself\u001b[0m\u001b[0;34m.\u001b[0m\u001b[0medges\u001b[0m\u001b[0;34m,\u001b[0m \u001b[0mself\u001b[0m\u001b[0;34m.\u001b[0m\u001b[0moutgoing\u001b[0m\u001b[0;34m,\u001b[0m \u001b[0mself\u001b[0m\u001b[0;34m.\u001b[0m\u001b[0mincoming\u001b[0m \u001b[0;34m=\u001b[0m \u001b[0mself\u001b[0m\u001b[0;34m.\u001b[0m\u001b[0mseries_parallel_graph\u001b[0m\u001b[0;34m(\u001b[0m\u001b[0mself\u001b[0m\u001b[0;34m.\u001b[0m\u001b[0mnodelist\u001b[0m\u001b[0;34m,\u001b[0m \u001b[0mgraph\u001b[0m\u001b[0;34m)\u001b[0m\u001b[0;34m\u001b[0m\u001b[0;34m\u001b[0m\u001b[0m\n",
      "\u001b[0;32m/var/folders/ws/928zzdt94qn3749jx20228j80000gq/T/ipykernel_16169/3475413902.py\u001b[0m in \u001b[0;36mseries_parallel_graph_nodelist\u001b[0;34m(self, subgraph)\u001b[0m\n\u001b[1;32m     27\u001b[0m             \u001b[0medgelist\u001b[0m \u001b[0;34m=\u001b[0m \u001b[0msubgraph\u001b[0m\u001b[0;34m.\u001b[0m\u001b[0moutgoing\u001b[0m\u001b[0;34m[\u001b[0m\u001b[0mnode\u001b[0m\u001b[0;34m]\u001b[0m\u001b[0;34m\u001b[0m\u001b[0;34m\u001b[0m\u001b[0m\n\u001b[1;32m     28\u001b[0m             \u001b[0mnode_candidate\u001b[0m \u001b[0;34m=\u001b[0m \u001b[0;34m[\u001b[0m\u001b[0;34m]\u001b[0m\u001b[0;34m\u001b[0m\u001b[0;34m\u001b[0m\u001b[0m\n\u001b[0;32m---> 29\u001b[0;31m             \u001b[0;32mfor\u001b[0m \u001b[0medge\u001b[0m \u001b[0;32min\u001b[0m \u001b[0medgelist\u001b[0m\u001b[0;34m:\u001b[0m\u001b[0;34m\u001b[0m\u001b[0;34m\u001b[0m\u001b[0m\n\u001b[0m\u001b[1;32m     30\u001b[0m                 \u001b[0mnodelist\u001b[0m \u001b[0;34m=\u001b[0m \u001b[0msubgraph\u001b[0m\u001b[0;34m.\u001b[0m\u001b[0moutgoing\u001b[0m\u001b[0;34m[\u001b[0m\u001b[0medge\u001b[0m\u001b[0;34m]\u001b[0m\u001b[0;34m\u001b[0m\u001b[0;34m\u001b[0m\u001b[0m\n\u001b[1;32m     31\u001b[0m                 \u001b[0;31m# exclude deadend\u001b[0m\u001b[0;34m\u001b[0m\u001b[0;34m\u001b[0m\u001b[0;34m\u001b[0m\u001b[0m\n",
      "\u001b[0;31mKeyboardInterrupt\u001b[0m: "
     ]
    }
   ],
   "source": [
    "series_parallelgraph = Get_Series_Parallel_Graph(graph, read_sets)"
   ]
  },
  {
   "cell_type": "code",
   "execution_count": null,
   "id": "b70b2248",
   "metadata": {},
   "outputs": [],
   "source": []
  }
 ],
 "metadata": {
  "kernelspec": {
   "display_name": "Python 3 (ipykernel)",
   "language": "python",
   "name": "python3"
  },
  "language_info": {
   "codemirror_mode": {
    "name": "ipython",
    "version": 3
   },
   "file_extension": ".py",
   "mimetype": "text/x-python",
   "name": "python",
   "nbconvert_exporter": "python",
   "pygments_lexer": "ipython3",
   "version": "3.7.9"
  }
 },
 "nbformat": 4,
 "nbformat_minor": 5
}
