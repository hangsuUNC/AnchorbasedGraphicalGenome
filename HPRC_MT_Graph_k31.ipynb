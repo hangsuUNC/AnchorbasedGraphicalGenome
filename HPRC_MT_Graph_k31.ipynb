{
 "cells": [
  {
   "cell_type": "code",
   "execution_count": 4,
   "id": "42f87f15",
   "metadata": {},
   "outputs": [],
   "source": [
    "# import gfapy\n",
    "import networkx as nx\n",
    "import gzip\n",
    "import pyfrost\n",
    "import numpy\n",
    "from collections import defaultdict\n",
    "import matplotlib.pyplot as plot\n",
    "import sys\n",
    "sys.path.append('../../MHC_asm/')\n",
    "#import CCGG_extension as CCGG\n",
    "import json"
   ]
  },
  {
   "cell_type": "code",
   "execution_count": 2,
   "id": "1e1d18e0-53c9-4d07-946b-6409ccdc94d0",
   "metadata": {},
   "outputs": [],
   "source": [
    "#! pip3 install matplotlib"
   ]
  },
  {
   "cell_type": "code",
   "execution_count": 3,
   "id": "ec12bbc7",
   "metadata": {},
   "outputs": [],
   "source": [
    "#sys.path"
   ]
  },
  {
   "cell_type": "code",
   "execution_count": 4,
   "id": "fa7409fc",
   "metadata": {},
   "outputs": [],
   "source": [
    "#! ls /home/linuxbrew/.linuxbrew/opt/python@3.11/lib/python3.11/lib-dynload"
   ]
  },
  {
   "cell_type": "code",
   "execution_count": 3,
   "id": "d486996d",
   "metadata": {},
   "outputs": [
    {
     "ename": "OSError",
     "evalue": "Could not find graph GFA file MT_graph_Bfrost_graph.gfa",
     "output_type": "error",
     "traceback": [
      "\u001b[0;31m---------------------------------------------------------------------------\u001b[0m",
      "\u001b[0;31mOSError\u001b[0m                                   Traceback (most recent call last)",
      "\u001b[0;32m/var/folders/ws/928zzdt94qn3749jx20228j80000gq/T/ipykernel_78043/1144228436.py\u001b[0m in \u001b[0;36m<module>\u001b[0;34m\u001b[0m\n\u001b[1;32m      1\u001b[0m \u001b[0mfilename\u001b[0m \u001b[0;34m=\u001b[0m \u001b[0;34m'./MT_graph_Bfrost_graph.gfa'\u001b[0m\u001b[0;34m\u001b[0m\u001b[0;34m\u001b[0m\u001b[0m\n\u001b[0;32m----> 2\u001b[0;31m \u001b[0mg\u001b[0m \u001b[0;34m=\u001b[0m \u001b[0mpyfrost\u001b[0m\u001b[0;34m.\u001b[0m\u001b[0mload\u001b[0m\u001b[0;34m(\u001b[0m\u001b[0mfilename\u001b[0m\u001b[0;34m)\u001b[0m\u001b[0;34m\u001b[0m\u001b[0;34m\u001b[0m\u001b[0m\n\u001b[0m",
      "\u001b[0;32m/Library/Frameworks/Python.framework/Versions/3.7/lib/python3.7/site-packages/pyfrost/io.py\u001b[0m in \u001b[0;36mload\u001b[0;34m(graph, **kwargs)\u001b[0m\n\u001b[1;32m     42\u001b[0m \u001b[0;34m\u001b[0m\u001b[0m\n\u001b[1;32m     43\u001b[0m     \u001b[0;32mif\u001b[0m \u001b[0;32mnot\u001b[0m \u001b[0mgraph\u001b[0m\u001b[0;34m.\u001b[0m\u001b[0mis_file\u001b[0m\u001b[0;34m(\u001b[0m\u001b[0;34m)\u001b[0m\u001b[0;34m:\u001b[0m\u001b[0;34m\u001b[0m\u001b[0;34m\u001b[0m\u001b[0m\n\u001b[0;32m---> 44\u001b[0;31m         \u001b[0;32mraise\u001b[0m \u001b[0mIOError\u001b[0m\u001b[0;34m(\u001b[0m\u001b[0;34mf\"Could not find graph GFA file {graph}\"\u001b[0m\u001b[0;34m)\u001b[0m\u001b[0;34m\u001b[0m\u001b[0;34m\u001b[0m\u001b[0m\n\u001b[0m\u001b[1;32m     45\u001b[0m \u001b[0;34m\u001b[0m\u001b[0m\n\u001b[1;32m     46\u001b[0m     \u001b[0mcolors_file\u001b[0m \u001b[0;34m=\u001b[0m \u001b[0mgraph\u001b[0m\u001b[0;34m.\u001b[0m\u001b[0mwith_suffix\u001b[0m\u001b[0;34m(\u001b[0m\u001b[0;34m\".bfg_colors\"\u001b[0m\u001b[0;34m)\u001b[0m\u001b[0;34m\u001b[0m\u001b[0;34m\u001b[0m\u001b[0m\n",
      "\u001b[0;31mOSError\u001b[0m: Could not find graph GFA file MT_graph_Bfrost_graph.gfa"
     ]
    }
   ],
   "source": [
    "filename = './MT_graph_Bfrost_graph.gfa'\n",
    "g = pyfrost.load(filename)"
   ]
  },
  {
   "cell_type": "code",
   "execution_count": 42,
   "id": "fe219380",
   "metadata": {},
   "outputs": [
    {
     "data": {
      "text/plain": [
       "(47, 31)"
      ]
     },
     "execution_count": 42,
     "metadata": {},
     "output_type": "execute_result"
    }
   ],
   "source": [
    "len(g.graph['color_names']), g.graph['k']"
   ]
  },
  {
   "cell_type": "code",
   "execution_count": 5,
   "id": "9795d243",
   "metadata": {},
   "outputs": [
    {
     "ename": "NameError",
     "evalue": "name 'g' is not defined",
     "output_type": "error",
     "traceback": [
      "\u001b[0;31m---------------------------------------------------------------------------\u001b[0m",
      "\u001b[0;31mNameError\u001b[0m                                 Traceback (most recent call last)",
      "\u001b[0;32m/var/folders/ws/928zzdt94qn3749jx20228j80000gq/T/ipykernel_78043/1627396106.py\u001b[0m in \u001b[0;36m<module>\u001b[0;34m\u001b[0m\n\u001b[1;32m     16\u001b[0m     \u001b[0;32mreturn\u001b[0m \u001b[0manchorlist\u001b[0m\u001b[0;34m,\u001b[0m \u001b[0mno_colors\u001b[0m\u001b[0;34m\u001b[0m\u001b[0;34m\u001b[0m\u001b[0m\n\u001b[1;32m     17\u001b[0m \u001b[0;34m\u001b[0m\u001b[0m\n\u001b[0;32m---> 18\u001b[0;31m \u001b[0manchorlist\u001b[0m\u001b[0;34m,\u001b[0m \u001b[0mno_colors\u001b[0m \u001b[0;34m=\u001b[0m \u001b[0mrevised_find_shared_kmers\u001b[0m\u001b[0;34m(\u001b[0m\u001b[0mg\u001b[0m\u001b[0;34m,\u001b[0m \u001b[0;36m31\u001b[0m\u001b[0;34m,\u001b[0m \u001b[0;36m47\u001b[0m\u001b[0;34m)\u001b[0m\u001b[0;34m\u001b[0m\u001b[0;34m\u001b[0m\u001b[0m\n\u001b[0m\u001b[1;32m     19\u001b[0m \u001b[0mno_colors\u001b[0m\u001b[0;34m,\u001b[0m \u001b[0mlen\u001b[0m\u001b[0;34m(\u001b[0m\u001b[0manchorlist\u001b[0m\u001b[0;34m)\u001b[0m\u001b[0;34m\u001b[0m\u001b[0;34m\u001b[0m\u001b[0m\n",
      "\u001b[0;31mNameError\u001b[0m: name 'g' is not defined"
     ]
    }
   ],
   "source": [
    "def revised_find_shared_kmers(g, k, colorsnum):\n",
    "    anchorlist = []\n",
    "    no_colors = 0\n",
    "    for n, data in g.nodes(data=True):\n",
    "        unitig = data['unitig_sequence']\n",
    "        for i in range(len(unitig)- k + 1):\n",
    "            n = unitig[i:i+k]\n",
    "            try:\n",
    "                colors = g.nodes[pyfrost.Kmer(n)]['colors'] \n",
    "                if len(set(colors)) == colorsnum:\n",
    "                    anchorlist.append(n)\n",
    "                    break\n",
    "            except:\n",
    "                no_colors += 1\n",
    "                \n",
    "    return anchorlist, no_colors\n",
    "\n",
    "anchorlist, no_colors = revised_find_shared_kmers(g, 31, 47)\n",
    "no_colors, len(anchorlist)"
   ]
  },
  {
   "cell_type": "code",
   "execution_count": 44,
   "id": "43a4bf1a",
   "metadata": {},
   "outputs": [
    {
     "data": {
      "text/plain": [
       "(137798, 1210206, 8.78246418670808)"
      ]
     },
     "execution_count": 44,
     "metadata": {},
     "output_type": "execute_result"
    }
   ],
   "source": [
    "len(list(g.nodes)), no_colors, no_colors/len(list(g.nodes))"
   ]
  },
  {
   "cell_type": "code",
   "execution_count": null,
   "id": "08f3211e",
   "metadata": {},
   "outputs": [],
   "source": [
    "# using new anchor list with"
   ]
  },
  {
   "cell_type": "code",
   "execution_count": 45,
   "id": "268f6248",
   "metadata": {},
   "outputs": [],
   "source": [
    "# map to reference, delete duplicated or missing kmers (exist in reverse complement strand)\n",
    "refgenome = '/home/suhang/assembly_disk/Mitochondrial/NC_012920.1.fasta'\n",
    "with open(refgenome, 'r') as fp:\n",
    "    data = fp.readlines()\n",
    "kmers = [k[:-1] for k in data[1:]]\n",
    "contig = \"\".join(kmers)\n",
    "contig = \"+\" + contig # reference sequences"
   ]
  },
  {
   "cell_type": "code",
   "execution_count": 46,
   "id": "99e77560",
   "metadata": {},
   "outputs": [],
   "source": [
    "\n",
    "def map_to_genome(contig, anchorlist, k):\n",
    "    PositionDict = defaultdict(list)\n",
    "    for anchor in anchorlist:\n",
    "        PositionDict[anchor]\n",
    "    for i in range(1, len(contig) - k + 1):\n",
    "        kmer = contig[i:i+k]\n",
    "        if kmer in PositionDict:\n",
    "            PositionDict[kmer] = PositionDict.get(kmer, []) + [i]\n",
    "    return PositionDict\n",
    "\n"
   ]
  },
  {
   "cell_type": "code",
   "execution_count": 47,
   "id": "d6b6635f",
   "metadata": {},
   "outputs": [],
   "source": [
    "def create_anchors(PositionDict, k):\n",
    "    anchor_updated_list = []\n",
    "\n",
    "    for kmer in PositionDict:\n",
    "        if len(PositionDict[kmer]) == 1:\n",
    "            anchor_updated_list.append(kmer)\n",
    "    AnchorInfo = {}\n",
    "    for kmer in anchor_updated_list:\n",
    "        pos = PositionDict[kmer][0]\n",
    "        anchorname = \"A%06d\" %  (pos//k + 1)\n",
    "        AnchorInfo[anchorname] = {}\n",
    "        AnchorInfo[anchorname]['seq'] = kmer\n",
    "        AnchorInfo[anchorname]['pos'] = pos\n",
    "        \n",
    "    anchornames = sorted(AnchorInfo.keys())\n",
    "    anchor_unadjacent_list = []\n",
    "    index = 0\n",
    "    sanchor = anchornames[index]\n",
    "    while sanchor < anchornames[-1]:\n",
    "        for danchor in anchornames[index+1:]:\n",
    "            if AnchorInfo[danchor]['pos'] - AnchorInfo[sanchor]['pos'] > k+1:\n",
    "                break\n",
    "            index += 1\n",
    "        anchor_unadjacent_list += [sanchor, danchor]\n",
    "        sanchor = danchor\n",
    "    anchor_unadjacent_list = sorted(set(anchor_unadjacent_list))[:-1]\n",
    "    return AnchorInfo, anchor_unadjacent_list"
   ]
  },
  {
   "cell_type": "code",
   "execution_count": 48,
   "id": "35545c90",
   "metadata": {},
   "outputs": [],
   "source": [
    "k = 31\n",
    "PositionDict = map_to_genome(contig, anchorlist, k)\n",
    "AnchorInfo, anchor_unadjacent_list = create_anchors(PositionDict, k)"
   ]
  },
  {
   "cell_type": "code",
   "execution_count": 54,
   "id": "da851515",
   "metadata": {},
   "outputs": [
    {
     "name": "stdout",
     "output_type": "stream",
     "text": [
      "316 513\n"
     ]
    },
    {
     "data": {
      "text/plain": [
       "((array([], dtype=int64),), 31)"
      ]
     },
     "execution_count": 54,
     "metadata": {},
     "output_type": "execute_result"
    }
   ],
   "source": [
    "#anchor_unadjacent_list = sorted(set(anchor_unadjacent_list))\n",
    "print(len(anchor_unadjacent_list), len(AnchorInfo))\n",
    "pos1 = [AnchorInfo[anchor]['pos'] for anchor in anchor_unadjacent_list[1:]]\n",
    "pos = [AnchorInfo[anchor]['pos'] for anchor in anchor_unadjacent_list[:-1]]\n",
    "numpy.where((numpy.array(pos1) - numpy.array(pos))<=k), k"
   ]
  },
  {
   "cell_type": "code",
   "execution_count": 55,
   "id": "edfb0a31",
   "metadata": {},
   "outputs": [
    {
     "data": {
      "text/plain": [
       "316"
      ]
     },
     "execution_count": 55,
     "metadata": {},
     "output_type": "execute_result"
    }
   ],
   "source": [
    "Final_anchor = {anchor:AnchorInfo[anchor] for anchor in anchor_unadjacent_list}\n",
    "len(Final_anchor)"
   ]
  },
  {
   "cell_type": "code",
   "execution_count": 56,
   "id": "e2810f80",
   "metadata": {},
   "outputs": [],
   "source": [
    "# load raw reads\n",
    "def loadFasta(filename):\n",
    "    \"\"\" Parses a classically formatted and possibly \n",
    "        compressed FASTA file into a list of headers \n",
    "        and fragment sequences for each sequence contained.\n",
    "        The resulting sequences are 0-indexed! \"\"\"\n",
    "    if (filename.endswith(\".gz\")):\n",
    "        fp = gzip.open(filename, 'rb')\n",
    "    else:\n",
    "        fp = open(filename, 'rb')\n",
    "    # split at headers\n",
    "    data = fp.read().decode().split('>')\n",
    "    fp.close()\n",
    "    # ignore whatever appears before the 1st header\n",
    "    data.pop(0)     \n",
    "    headers = []\n",
    "    sequences = []\n",
    "    for sequence in data:\n",
    "        lines = sequence.split('\\n')\n",
    "        headers.append(lines.pop(0))\n",
    "        sequences.append(''.join(lines))\n",
    "    return (headers, sequences)"
   ]
  },
  {
   "cell_type": "code",
   "execution_count": 57,
   "id": "e8e41020",
   "metadata": {},
   "outputs": [],
   "source": [
    "filename = '/home/suhang/assembly_disk/Mitochondrial/HPRC_46/kmer31/all.fasta'\n",
    "headers, sequences = loadFasta(filename)"
   ]
  },
  {
   "cell_type": "code",
   "execution_count": 58,
   "id": "c29d1336",
   "metadata": {},
   "outputs": [],
   "source": [
    "refgenome = '/home/suhang/assembly_disk/Mitochondrial/NC_012920.1.fasta'\n",
    "with open(refgenome, 'r') as fp:\n",
    "    data = fp.readlines()\n",
    "kmers = [k[:-1] for k in data[1:]]\n",
    "contig = \"\".join(kmers)\n",
    "\n",
    "headers.append('NC_012920')\n",
    "sequences.append(contig)"
   ]
  },
  {
   "cell_type": "code",
   "execution_count": 59,
   "id": "c6e07c33",
   "metadata": {},
   "outputs": [],
   "source": [
    "#headers"
   ]
  },
  {
   "cell_type": "code",
   "execution_count": 60,
   "id": "ebab26ec",
   "metadata": {},
   "outputs": [],
   "source": [
    "\n",
    "\n",
    "def mapping_info(AnchorInfo, contig, k):\n",
    "    anchor_list = list(AnchorInfo.keys())\n",
    "    Anchorseq = {AnchorInfo[anchor]['seq']:anchor for anchor in anchor_list}\n",
    "\n",
    "    seqlist = Anchorseq.keys()\n",
    "    PositionDict = defaultdict(list)\n",
    "    for anchor_seq in seqlist:\n",
    "        anchor_rev = ''.join([{'A':'T','C':'G','G':'C','T':'A'}[base] for base in reversed(anchor_seq)])\n",
    "        PositionDict[anchor_seq]\n",
    "        PositionDict[anchor_rev]\n",
    "\n",
    "    for i in range(1, len(contig) - k + 1):\n",
    "        kmer = contig[i:i+k]\n",
    "        if kmer in PositionDict:\n",
    "            PositionDict[kmer] = PositionDict.get(kmer, []) + [i]\n",
    "            \n",
    "    A = {}\n",
    "    SVs = {}\n",
    "    for anchor, D in AnchorInfo.items():\n",
    "        anchor_seq = D['seq']\n",
    "        anchor_rev = ''.join([{'A':'T','C':'G','G':'C','T':'A'}[base] for base in reversed(anchor_seq)])\n",
    "        poslist = PositionDict[anchor_seq] + PositionDict[anchor_rev]\n",
    "        if len(poslist) == 1:\n",
    "            A[anchor] = poslist[0]\n",
    "        else:\n",
    "            SVs[anchor] = poslist\n",
    "            \n",
    "    return A, SVs\n",
    "\n",
    "def find_edge_info(src_pos, dst_pos, k, contig, contigname, sample, Anchorseq):\n",
    "    E = {} # edgeinfo\n",
    "    # get source infomation\n",
    "    if src_pos == 0:\n",
    "        src = \"SOURCE\"\n",
    "        src_seq = \"\"\n",
    "        pr = False\n",
    "    else:\n",
    "        src_seq = contig[src_pos:src_pos + k]\n",
    "        try:\n",
    "            src = Anchorseq[src_seq]\n",
    "            pr = False\n",
    "        except:\n",
    "            src_seq = ''.join([{'A':'T','C':'G','G':'C','T':'A'}[base] for base in reversed(src_seq)])\n",
    "            src = Anchorseq[src_seq]\n",
    "            pr = True\n",
    "\n",
    "    dst_seq = contig[dst_pos:dst_pos+k]\n",
    "    \n",
    "    if dst_pos == len(contig): # fix sink edge issue 08/29/23\n",
    "        dst = \"SINK\"\n",
    "        dst_seq = \"\"\n",
    "        sr = True\n",
    "    else:\n",
    "        try:\n",
    "            dst = Anchorseq[dst_seq]\n",
    "            sr = False\n",
    "        except:\n",
    "            dst_seq = ''.join([{'A':'T','C':'G','G':'C','T':'A'}[base] for base in reversed(dst_seq)])\n",
    "            dst = Anchorseq[dst_seq]\n",
    "            sr = True\n",
    "            \n",
    "    if src_pos == 0:\n",
    "        edge_seq = contig[src_pos:dst_pos] # first edge fix bug 08/28/2023\n",
    "    else:\n",
    "        edge_seq = contig[src_pos+k:dst_pos] # fix bug 08/23/2023\n",
    "        \n",
    "    if pr and sr:\n",
    "        edge_seq = ''.join([{'A':'T','C':'G','G':'C','T':'A'}[base] for base in reversed(edge_seq)])\n",
    "        node = src\n",
    "        src = dst\n",
    "        dst = node\n",
    "\n",
    "    \n",
    "    E = {}\n",
    "    E['seq'] = edge_seq\n",
    "    E['src'] = src\n",
    "    E['dst'] = dst\n",
    "    E['reads'] = [contigname]\n",
    "    E['strain'] = [sample]\n",
    "\n",
    "\n",
    "    return E\n"
   ]
  },
  {
   "cell_type": "code",
   "execution_count": 61,
   "id": "9244c325",
   "metadata": {},
   "outputs": [],
   "source": [
    "# loop through all reads\n",
    "def create_edgefile(headers, sequences, AnchorInfo, k):\n",
    "    Edge_info = {}\n",
    "    Outgoing = {}\n",
    "    \n",
    "    edgenum_perread = []\n",
    "    anchor_list = list(AnchorInfo.keys())\n",
    "    Anchorseq = {AnchorInfo[anchor]['seq']:anchor for anchor in anchor_list}\n",
    "    \n",
    "    for contig_index in range(len(headers)):\n",
    "        contig = sequences[contig_index]\n",
    "        contig_name = headers[contig_index]\n",
    "        sample_name = contig_name.split('_')[-1]\n",
    "        A, SVs = mapping_info(AnchorInfo, contig, k)\n",
    "        splitposlist = sorted(A.values())\n",
    "        edgeindex = 0 # \n",
    "        src_pos = 0\n",
    "        for dst_pos in splitposlist:\n",
    "            E = find_edge_info(src_pos, dst_pos, k, contig, contig_name, sample_name, Anchorseq)\n",
    "            src = E['src']\n",
    "            edgelist = Outgoing.get(src, [])\n",
    "            for edge in edgelist:\n",
    "                if Edge_info[edge]['dst'] != E['dst']:\n",
    "                    continue\n",
    "                if Edge_info[edge]['seq'] == E['seq']:\n",
    "                    Edge_info[edge]['reads'] += E['reads']\n",
    "                    Edge_info[edge]['strain'] = sorted(set(Edge_info[edge]['strain']) | set(E['strain']))\n",
    "                    break\n",
    "            else:\n",
    "                edgename = \"E%05d.%04d\" % (contig_index, edgeindex)\n",
    "                Edge_info[edgename] = E\n",
    "                Outgoing[src] = Outgoing.get(src,[]) + [edgename]\n",
    "                edgeindex += 1\n",
    "            # update\n",
    "            src_pos = dst_pos\n",
    "        \n",
    "        dst_pos = len(contig) # fix bug 08/29/2023 \n",
    "        E = find_edge_info(src_pos, dst_pos, k, contig, contig_name, sample_name, Anchorseq)\n",
    "        src = E['src']\n",
    "        edgelist = Outgoing.get(src, [])\n",
    "        for edge in edgelist:\n",
    "            if Edge_info[edge]['dst'] != E['dst']:\n",
    "                continue\n",
    "            if Edge_info[edge]['seq'] == E['seq']:\n",
    "                Edge_info[edge]['reads'] += E['reads']\n",
    "                Edge_info[edge]['strain'] = sorted(set(Edge_info[edge]['strain']) | set(E['strain']))\n",
    "                break\n",
    "        else:\n",
    "            edgename = \"E%05d.%04d\" % (contig_index, edgeindex)\n",
    "            Edge_info[edgename] = E\n",
    "            Outgoing[src] = Outgoing.get(src,[]) + [edgename]\n",
    "            edgeindex += 1\n",
    "        \n",
    "        edgenum_perread.append(edgeindex)   \n",
    "        \n",
    "    return Edge_info, Outgoing\n",
    "        #print(contig_name, edgeindex)\n",
    "\n",
    "\n"
   ]
  },
  {
   "cell_type": "code",
   "execution_count": 64,
   "id": "0e076dfc",
   "metadata": {},
   "outputs": [],
   "source": [
    "#Final_anchor\n",
    "#k = 11\n",
    "#len(Anchorseq)"
   ]
  },
  {
   "cell_type": "code",
   "execution_count": 65,
   "id": "66a7f52d",
   "metadata": {},
   "outputs": [
    {
     "name": "stdout",
     "output_type": "stream",
     "text": [
      "CPU times: user 4min 42s, sys: 192 ms, total: 4min 42s\n",
      "Wall time: 4min 42s\n"
     ]
    }
   ],
   "source": [
    "%time Edge_info, Outgoing = create_edgefile(headers, sequences, Final_anchor, k)"
   ]
  },
  {
   "cell_type": "code",
   "execution_count": 20,
   "id": "56ecfcac",
   "metadata": {},
   "outputs": [
    {
     "data": {
      "text/plain": [
       "('E00000.0000',\n",
       " {'seq': 'AAACCTGCCCCTACTCCTCCTAGACCTAACCTGACTAGAAAAGCT',\n",
       "  'src': 'SOURCE',\n",
       "  'dst': 'A000453',\n",
       "  'reads': ['m54329U_201103_231616/6359354/ccs_HG002'],\n",
       "  'strain': ['HG002']},\n",
       " 124156)"
      ]
     },
     "execution_count": 20,
     "metadata": {},
     "output_type": "execute_result"
    }
   ],
   "source": [
    "list(Edge_info.keys())[0], Edge_info['E00000.0000'], len(Edge_info)"
   ]
  },
  {
   "cell_type": "code",
   "execution_count": 21,
   "id": "affa6061",
   "metadata": {},
   "outputs": [],
   "source": [
    "def filter_undersupported_edges(Edge_info, ref = 'NC_012920', threshold = 4):\n",
    "    # filter edges that supported by > 3 reads\n",
    "    deleted_edge = []\n",
    "    for edge in Edge_info:\n",
    "        if ref in Edge_info[edge]['reads']:\n",
    "            continue\n",
    "        if len(Edge_info[edge]['reads']) < 4:\n",
    "            deleted_edge.append(edge)\n",
    "    print(len(deleted_edge))\n",
    "    for edge in deleted_edge:\n",
    "        del Edge_info[edge]\n",
    "    return "
   ]
  },
  {
   "cell_type": "code",
   "execution_count": 22,
   "id": "a3aa5b83",
   "metadata": {},
   "outputs": [
    {
     "name": "stdout",
     "output_type": "stream",
     "text": [
      "113421\n"
     ]
    }
   ],
   "source": [
    "filter_undersupported_edges(Edge_info)"
   ]
  },
  {
   "cell_type": "code",
   "execution_count": 23,
   "id": "db4c3bdc",
   "metadata": {},
   "outputs": [
    {
     "data": {
      "text/plain": [
       "{'seq': 'GTCTATCACCCTATTAACCACTCACGGGAGC', 'pos': 9}"
      ]
     },
     "execution_count": 23,
     "metadata": {},
     "output_type": "execute_result"
    }
   ],
   "source": [
    "anchor = anchor_unadjacent_list[0]\n",
    "AnchorInfo[anchor]"
   ]
  },
  {
   "cell_type": "code",
   "execution_count": 24,
   "id": "5e2367d3",
   "metadata": {},
   "outputs": [],
   "source": [
    "# Write Graph into fa files\n",
    "import ujson as json\n",
    "def writeGraphFasta(filename, input_dict, keylist=[\"src\", \"dst\"]):\n",
    "    \"\"\"Write the given node or edge file as a FASTA file. Overwrites existing file. Will create file if it doesn't exist. \n",
    "    def writeFasta(self:<GraphicalGenome>, filename:<str>, input_dict:<dict>, keylist=[\"src\",\"dst\"]:<list[str]>) -> Void\n",
    "\n",
    "    Parameters:\n",
    "        filename: <str> - absolute path for the file you wish to write. \n",
    "        input_dict: <dict> - Node or Edge dictionary you wish to write. \n",
    "        keylist: <list[str]> - list of strings of dictionary keys that you want to ignore during write. \n",
    "                This will require you to write these values on your own or just discard them. \n",
    "    \"\"\"\n",
    "    sorted_keys = sorted(input_dict.keys()) \n",
    "    with open(filename, \"w+\") as fastafile:\n",
    "        # If iterating through the edges, write the edges in the correctly ordered format\n",
    "        if (sorted_keys[0][0] == \"E\"):\n",
    "            for edge in sorted_keys:\n",
    "                # If header has not been evaluated, just re-write the header wholesale without any analysis\n",
    "                if \"hdr\" in input_dict[edge].keys():\n",
    "                    line = \">\" + edge + \";\" + input_dict[edge][\"hdr\"] + \"\\n\"\n",
    "                    line += input_dict[edge][\"seq\"] + \"\\n\"\n",
    "                    continue\n",
    "                line = \">\" + edge + \";{\" \n",
    "                # Source\n",
    "                line += '\"src\":\"' + input_dict[edge][\"src\"] + '\",'\n",
    "                # Destination\n",
    "                line += '\"dst\":\"' + input_dict[edge][\"dst\"] + '\"'\n",
    "                for key in input_dict[edge].keys():\n",
    "                    if key == \"seq\":\n",
    "                        continue\n",
    "                    if key in keylist:\n",
    "                        continue\n",
    "                    line += ',\"' + key + '\":' + json.dumps(input_dict[edge][key], separators=(\",\", \":\"))\n",
    "                line += \"}\\n\"\n",
    "                line += input_dict[edge][\"seq\"] + \"\\n\"\n",
    "                fastafile.write(line)\n",
    "        # If iterating over nodes, just write the nodes normally\n",
    "        else:\n",
    "            for i in sorted_keys:\n",
    "                line = \">\" + i + \";\"\n",
    "                obj = {}\n",
    "                for j in input_dict[i].keys():\n",
    "                    if j == 'seq':\n",
    "                        continue\n",
    "                    obj[j] = input_dict[i][j]\n",
    "                #print(type(obj), obj)\n",
    "                line += json.dumps(obj, separators=(\",\", \":\"))\n",
    "                line += \"\\n\" + input_dict[i]['seq'] + \"\\n\"\n",
    "                fastafile.write(line)\n",
    "\n"
   ]
  },
  {
   "cell_type": "code",
   "execution_count": 25,
   "id": "d15a96d4",
   "metadata": {},
   "outputs": [],
   "source": [
    "writeGraphFasta(\"/home/suhang/assembly_disk/Mitochondrial/HPRC_46/kmer31/MT_HPRC_nodes.fa\",Final_anchor)\n",
    "writeGraphFasta(\"/home/suhang/assembly_disk/Mitochondrial/HPRC_46/kmer31/MT_HPRC_edges.fa\",Edge_info)"
   ]
  },
  {
   "cell_type": "code",
   "execution_count": 15,
   "id": "a413fa5d",
   "metadata": {},
   "outputs": [],
   "source": [
    "# To do add RC tag to the edge files, read count\n",
    "\n",
    "def write_gfa(AnchorInfo, Edge_info, outputfilename):\n",
    "    header = ['H\\tVN:Z:1.0\\n']\n",
    "    # add json annotation to edge and anchor sequences\n",
    "    AnchorS = []\n",
    "    for anchor,D in AnchorInfo.items():\n",
    "        seq = D.pop('seq')\n",
    "        json_string = json.dumps(D)\n",
    "        AnchorS += ['S\\t%s\\t%s\\t%s\\n' % (anchor, seq, \"PG:J:\" + json_string)]\n",
    "   \n",
    "    EdgeS = []   \n",
    "    Link = [] \n",
    "    for edge,edge_dict in Edge_info.items():\n",
    "        seq = edge_dict.pop('seq')\n",
    "        src = edge_dict.pop('src')\n",
    "        dst = edge_dict.pop('dst')\n",
    "        \n",
    "        json_string = json.dumps(edge_dict)\n",
    "        EdgeS += ['S\\t%s\\t%s\\t%s\\t%s\\n' % (edge, seq, \"PG:J:\" + json_string, \"RC:i:\" + str(len(edge_dict['reads'])))]\n",
    "        Link.append('L\\t%s\\t%s\\t%s\\t%s\\t%s\\n'% (src, \"+\", edge, \"+\", \"0M\"))\n",
    "        Link.append('L\\t%s\\t%s\\t%s\\t%s\\t%s\\n'% (edge, \"+\", dst, \"+\", \"0M\"))     \n",
    "\n",
    "    with open(outputfilename, 'w') as fp:\n",
    "        for h in header:\n",
    "            fp.write(h)\n",
    "        for s in AnchorS:\n",
    "            fp.write(s)\n",
    "        for s in EdgeS:\n",
    "            fp.write(s)\n",
    "        for l in Link:\n",
    "            fp.write(l)"
   ]
  },
  {
   "cell_type": "code",
   "execution_count": 27,
   "id": "486df764",
   "metadata": {},
   "outputs": [],
   "source": [
    "filename = '/home/suhang/assembly_disk/Mitochondrial/HPRC_46/kmer31/MT_anchor_graphical_genome_k31_withannotation.gfa'\n",
    "write_gfa(Final_anchor, Edge_info, filename)"
   ]
  },
  {
   "cell_type": "markdown",
   "id": "fdafb55f",
   "metadata": {},
   "source": [
    "# Results"
   ]
  },
  {
   "cell_type": "code",
   "execution_count": 4,
   "id": "32e0fbe8",
   "metadata": {},
   "outputs": [],
   "source": [
    "# load graph from gfa\n",
    "\n",
    "class GraphicalGenome:\n",
    "    def __init__(self, filename):\n",
    "        self.anchor, self.edges, self.outgoing, self.incoming = self.loadgraph(filename)\n",
    "\n",
    "    def loadgraph(self, filename):\n",
    "        if filename.endswith(\".gz\"):\n",
    "            with gzip.open(filename, 'rb') as fp:\n",
    "                data = fp.readlines()\n",
    "        else:\n",
    "            with open(filename, 'rb') as fp:\n",
    "                data = fp.readlines()\n",
    "        Anchor_dict = {}\n",
    "        Edge_dict = {}\n",
    "        Outgoing = {}\n",
    "        Incoming = {}\n",
    "\n",
    "        for line in data:\n",
    "            line = line.decode()[:-1]\n",
    "            if line.startswith(\"S\"):\n",
    "                itemlist = line.split('\\t')\n",
    "                name = itemlist[1]\n",
    "                seq = itemlist[2]\n",
    "                annotation = itemlist[3][5:]\n",
    "                if name.startswith(\"A\"):\n",
    "                    Anchor_dict[name] = json.loads(annotation)\n",
    "                    Anchor_dict[name]['seq'] = seq\n",
    "                elif name.startswith(\"E\"):\n",
    "                    Edge_dict[name] = json.loads(annotation)\n",
    "                    Edge_dict[name]['seq'] = seq\n",
    "            elif line.startswith(\"L\"):\n",
    "                itemlist = line.split('\\t')\n",
    "                src = itemlist[1]\n",
    "                dst = itemlist[3]\n",
    "                Outgoing[src] = Outgoing.get(src, []) + [dst]\n",
    "                Incoming[dst] = Incoming.get(dst, []) + [src]\n",
    "#                 if src.startswith('A') or src == \"SOURCE\":\n",
    "#                     assert dst.startswith(\"E\")\n",
    "#                     Outgoing[src] = Outgoing.get(src, []) + [dst]\n",
    "#                 elif dst.startswith(\"A\") or dst == \"SINK\":\n",
    "#                     assert src.startswith(\"E\")\n",
    "#                     Incoming[dst] = Incoming.get(dst, []) + [src]\n",
    "                    \n",
    "        return Anchor_dict, Edge_dict, Outgoing, Incoming"
   ]
  },
  {
   "cell_type": "code",
   "execution_count": 9,
   "id": "6f3db7c1",
   "metadata": {},
   "outputs": [],
   "source": [
    "# load graph\n",
    "filename = './test.gfa'\n",
    "graph = GraphicalGenome(filename)\n",
    "\n",
    "# nodefile = \"/home/suhang/assembly_disk/Mitochondrial/HPRC_46/kmer31/MT_HPRC_nodes.fa\"\n",
    "# edgefile = \"/home/suhang/assembly_disk/Mitochondrial/HPRC_46/kmer31/MT_HPRC_edges.fa\"\n",
    "# graph = CCGG.GraphicalGenome(nodefile, edgefile, nnamelen=7, enamelen=11)"
   ]
  },
  {
   "cell_type": "code",
   "execution_count": 10,
   "id": "c73e07f8",
   "metadata": {},
   "outputs": [],
   "source": [
    "#graph.edges.keys()"
   ]
  },
  {
   "cell_type": "code",
   "execution_count": 11,
   "id": "9c8d8cf3",
   "metadata": {},
   "outputs": [],
   "source": [
    "# Outgoing = {}\n",
    "# Incoming = {}\n",
    "# edgelist = list(graph.edges.keys())\n",
    "# for edge in edgelist:\n",
    "#     src = graph.edges[edge]['src']\n",
    "#     dst = graph.edges[edge]['dst']\n",
    "#     Outgoing[src] = Outgoing.get(src, []) + [edge]\n",
    "#     Incoming[dst] = Incoming.get(dst, []) + [edge]"
   ]
  },
  {
   "cell_type": "code",
   "execution_count": 44,
   "id": "8192716b",
   "metadata": {},
   "outputs": [],
   "source": [
    "nodelist = list(graph.anchor.keys())\n",
    "edgelist = list(graph.edges.keys())\n",
    "graph_size = sum([len(graph.anchor[node]['seq']) for node in nodelist]) + sum([len(graph.edges[edge]['seq']) for edge in edgelist])"
   ]
  },
  {
   "cell_type": "code",
   "execution_count": 18,
   "id": "093725b9",
   "metadata": {},
   "outputs": [
    {
     "ename": "NameError",
     "evalue": "name 'sequences' is not defined",
     "output_type": "error",
     "traceback": [
      "\u001b[0;31m---------------------------------------------------------------------------\u001b[0m",
      "\u001b[0;31mNameError\u001b[0m                                 Traceback (most recent call last)",
      "Cell \u001b[0;32mIn[18], line 1\u001b[0m\n\u001b[0;32m----> 1\u001b[0m \u001b[38;5;28msum\u001b[39m(\u001b[38;5;28mlen\u001b[39m(seq) \u001b[38;5;28;01mfor\u001b[39;00m seq \u001b[38;5;129;01min\u001b[39;00m \u001b[43msequences\u001b[49m), graph_size\u001b[38;5;241m/\u001b[39m\u001b[38;5;28mfloat\u001b[39m(\u001b[38;5;28msum\u001b[39m(\u001b[38;5;28mlen\u001b[39m(seq) \u001b[38;5;28;01mfor\u001b[39;00m seq \u001b[38;5;129;01min\u001b[39;00m sequences))\n",
      "\u001b[0;31mNameError\u001b[0m: name 'sequences' is not defined"
     ]
    }
   ],
   "source": [
    "sum(len(seq) for seq in sequences), graph_size/float(sum(len(seq) for seq in sequences))"
   ]
  },
  {
   "cell_type": "code",
   "execution_count": 45,
   "id": "a68bb5c2",
   "metadata": {},
   "outputs": [
    {
     "data": {
      "text/plain": [
       "Text(0, 0.5, 'Num of Anchor')"
      ]
     },
     "execution_count": 45,
     "metadata": {},
     "output_type": "execute_result"
    },
    {
     "data": {
      "image/png": "[encoded data removed]",
      "text/plain": [
       "<Figure size 640x480 with 1 Axes>"
      ]
     },
     "metadata": {},
     "output_type": "display_data"
    }
   ],
   "source": [
    "Anchor_position = sorted([graph.anchor[node]['pos'] for node in nodelist])\n",
    "\n",
    "y, x = numpy.histogram(Anchor_position, bins = 16)\n",
    "plot.plot(x[1:], y)\n",
    "plot.title(\"Anchor Distribution\")\n",
    "plot.xlabel(\"Position\")\n",
    "plot.ylabel(\"Num of Anchor\")"
   ]
  },
  {
   "cell_type": "code",
   "execution_count": 47,
   "id": "a931384a",
   "metadata": {},
   "outputs": [
    {
     "data": {
      "text/plain": [
       "Text(0.5, 1.0, 'Outdegree Distribution')"
      ]
     },
     "execution_count": 47,
     "metadata": {},
     "output_type": "execute_result"
    },
    {
     "data": {
      "image/png": "[encoded data removed]",
      "text/plain": [
       "<Figure size 640x480 with 1 Axes>"
      ]
     },
     "metadata": {},
     "output_type": "display_data"
    }
   ],
   "source": [
    "outdegree = []\n",
    "nodelist = list(graph.anchor.keys())\n",
    "#nodelist.remove(\"SOURCE\")\n",
    "for node in nodelist:\n",
    "    outdegree.append(len(graph.outgoing[node]))\n",
    "    \n",
    "y,x = numpy.histogram(outdegree, bins = 15)\n",
    "plot.plot(x[:-1], y)\n",
    "#plot.xlim([0,1000])\n",
    "plot.xlabel(\"Outdegree\")\n",
    "plot.ylabel(\"Number of Anchors\")\n",
    "plot.title(\"Outdegree Distribution\")"
   ]
  },
  {
   "cell_type": "markdown",
   "id": "5ac8294a",
   "metadata": {},
   "source": [
    "# check sample information"
   ]
  },
  {
   "cell_type": "code",
   "execution_count": 48,
   "id": "a2de72be",
   "metadata": {},
   "outputs": [],
   "source": [
    "sample = \"HG002\"\n",
    "edgelist = list(graph.edges.keys())\n",
    "for edge in edgelist:\n",
    "    if sample in graph.edges[edge]['strain']:\n",
    "        break"
   ]
  },
  {
   "cell_type": "code",
   "execution_count": 12,
   "id": "5fbeb1db",
   "metadata": {},
   "outputs": [],
   "source": [
    "def reconstruct_refpath(ref = 'NC_012920.1'):\n",
    "    src = \"SOURCE\"\n",
    "    Path = []\n",
    "\n",
    "    visited = set()\n",
    "\n",
    "    while src != \"SINK\":\n",
    "        edgelist = graph.outgoing[src]\n",
    "        ref_edge = []\n",
    "        for edge in edgelist:\n",
    "            if ref in graph.edges[edge]['reads']:\n",
    "                ref_edge += [edge]\n",
    "        if len(ref_edge) == 1:\n",
    "            edge = ref_edge[0]\n",
    "        else:\n",
    "            for edge in ref_edge:\n",
    "                if graph.outgoing[edge] == \"SINK\":\n",
    "                    break\n",
    "        Path += [src, edge]\n",
    "        visited.add(src)\n",
    "        src = graph.outgoing[edge][0]\n",
    "        assert src.startswith(\"A\") or src == \"SINK\"\n",
    "        if src in visited:\n",
    "            break\n",
    "            \n",
    "    reconstruct = ''\n",
    "    for item in Path:\n",
    "        if item == \"SOURCE\":\n",
    "            reconstruct += \"\"\n",
    "        elif item.startswith('A'):\n",
    "            reconstruct += graph.anchor[item]['seq']\n",
    "        elif item.startswith(\"E\"):\n",
    "            reconstruct += graph.edges[item]['seq']\n",
    "        else:\n",
    "            print(item)\n",
    "    return reconstruct, Path"
   ]
  },
  {
   "cell_type": "code",
   "execution_count": 13,
   "id": "5af04a69",
   "metadata": {},
   "outputs": [],
   "source": [
    "reconstruct_ref, Path = reconstruct_refpath()"
   ]
  },
  {
   "cell_type": "code",
   "execution_count": 14,
   "id": "b7e9fba4",
   "metadata": {},
   "outputs": [
    {
     "name": "stdout",
     "output_type": "stream",
     "text": [
      "PASS\n"
     ]
    }
   ],
   "source": [
    "# map to reference, delete duplicated or missing kmers (exist in reverse complement strand)\n",
    "refgenome = '/home/suhang/assembly_disk/Mitochondrial/NC_012920.1.fasta'\n",
    "with open(refgenome, 'r') as fp:\n",
    "    data = fp.readlines()\n",
    "kmers = [k[:-1] for k in data[1:]]\n",
    "contig = \"\".join(kmers)\n",
    "\n",
    "assert reconstruct_ref == contig\n",
    "print(\"PASS\")"
   ]
  },
  {
   "cell_type": "code",
   "execution_count": 34,
   "id": "6364ccc4",
   "metadata": {},
   "outputs": [
    {
     "data": {
      "text/plain": [
       "'E11922.0007'"
      ]
     },
     "execution_count": 34,
     "metadata": {},
     "output_type": "execute_result"
    }
   ],
   "source": [
    "Path[-1]"
   ]
  },
  {
   "cell_type": "code",
   "execution_count": 30,
   "id": "0fe04b3c",
   "metadata": {},
   "outputs": [
    {
     "name": "stdout",
     "output_type": "stream",
     "text": [
      "16569 16569 ['A000001']\n",
      "E11922.0007 {'reads': ['NC_012920.1'], 'strain': ['012920.1'], 'seq': 'AATAAGACATCACGATG'} ['SINK']\n"
     ]
    }
   ],
   "source": [
    "print(len(reconstruct_ref), len(contig), graph.outgoing['E06834.0001'], )\n",
    "for edge in graph.incoming['SINK']:\n",
    "    if \"012920.1\" in graph.edges[edge]['strain']:\n",
    "        print(edge, graph.edges[edge], graph.outgoing[edge])\n",
    "        break"
   ]
  },
  {
   "cell_type": "code",
   "execution_count": 15,
   "id": "5bfa1ed8",
   "metadata": {},
   "outputs": [
    {
     "data": {
      "text/plain": [
       "('GATCACAGGT', 'CATCACGATG')"
      ]
     },
     "execution_count": 15,
     "metadata": {},
     "output_type": "execute_result"
    }
   ],
   "source": [
    "contig[:10], contig[-10:]\n"
   ]
  },
  {
   "cell_type": "markdown",
   "id": "1cdb6274",
   "metadata": {},
   "source": [
    "# reconstruct sample subgraph\n",
    "# reconstruct most supported path for each sample"
   ]
  },
  {
   "cell_type": "code",
   "execution_count": 15,
   "id": "6e3e1edc",
   "metadata": {},
   "outputs": [],
   "source": [
    "# load graph\n",
    "filename = './test.gfa'\n",
    "graph = GraphicalGenome(filename)\n",
    "\n",
    "samplelist = [\"HG002\"]\n"
   ]
  },
  {
   "cell_type": "code",
   "execution_count": 33,
   "id": "2ccbca8f",
   "metadata": {},
   "outputs": [],
   "source": [
    "def reconstruct_sample_subgraph(graph, samplelist, outputfile):\n",
    "    Anchor_dict = {}\n",
    "    Edge_dict = {}\n",
    "    edgelist = list(graph.edges.keys())\n",
    "    Anchor_dict = {}\n",
    "    Edge_dict = {}\n",
    "    nodelist = []\n",
    "    for edge in edgelist:\n",
    "        if len(set(samplelist) & set(graph.edges[edge]['strain'])) > 0:\n",
    "            Edge_dict[edge] = graph.edges[edge]\n",
    "            Edge_dict[edge]['src'] = graph.incoming[edge][0]\n",
    "            Edge_dict[edge]['dst'] = graph.outgoing[edge][0]\n",
    "        nodelist += graph.incoming[edge]\n",
    "        nodelist += graph.outgoing[edge]\n",
    "\n",
    "    nodelist = list(set(nodelist))\n",
    "    for node in nodelist:\n",
    "        if node.startswith(\"A\"):\n",
    "            Anchor_dict[node] = graph.anchor[node]\n",
    "            \n",
    "    write_gfa(Anchor_dict, Edge_dict, outputfile)\n",
    "    \n",
    "    return Anchor_dict, Edge_dict\n"
   ]
  },
  {
   "cell_type": "code",
   "execution_count": 21,
   "id": "009a788e",
   "metadata": {},
   "outputs": [
    {
     "data": {
      "text/plain": [
       "('E00000.0001',\n",
       " ['012920.1',\n",
       "  'HG002',\n",
       "  'HG00438',\n",
       "  'HG00621',\n",
       "  'HG00673',\n",
       "  'HG00733',\n",
       "  'HG01071',\n",
       "  'HG01106',\n",
       "  'HG01109',\n",
       "  'HG01123',\n",
       "  'HG01175',\n",
       "  'HG01243',\n",
       "  'HG01258',\n",
       "  'HG01358',\n",
       "  'HG01361',\n",
       "  'HG01891',\n",
       "  'HG01928',\n",
       "  'HG01952',\n",
       "  'HG01978',\n",
       "  'HG02055',\n",
       "  'HG02080',\n",
       "  'HG02109',\n",
       "  'HG02145',\n",
       "  'HG02148',\n",
       "  'HG02486',\n",
       "  'HG02559',\n",
       "  'HG02572',\n",
       "  'HG02622',\n",
       "  'HG02630',\n",
       "  'HG02717',\n",
       "  'HG02723',\n",
       "  'HG02818',\n",
       "  'HG02886',\n",
       "  'HG03098',\n",
       "  'HG03453',\n",
       "  'HG03486',\n",
       "  'HG03516',\n",
       "  'HG03540',\n",
       "  'HG03579',\n",
       "  'NA18906',\n",
       "  'NA19240',\n",
       "  'NA20129',\n",
       "  'NA21309'])"
      ]
     },
     "execution_count": 21,
     "metadata": {},
     "output_type": "execute_result"
    }
   ],
   "source": [
    "list(graph.edges.keys())[0], graph.edges['E00000.0001']['strain']"
   ]
  },
  {
   "cell_type": "code",
   "execution_count": 31,
   "id": "23bef50e",
   "metadata": {},
   "outputs": [],
   "source": [
    "# find the most supported path for a sample\n",
    "sample = \"HG002\"\n",
    "\n",
    "def find_most_supported_path(graph, sample, ref = '012920.1'):\n",
    "    src = \"SOURCE\"\n",
    "    Path = []\n",
    "\n",
    "    visited = set()\n",
    "\n",
    "    while src != \"SINK\":\n",
    "        edgelist = graph.outgoing[src]\n",
    "        sample_edge = []\n",
    "        for edge in edgelist:\n",
    "            if sample in set(graph.edges[edge]['strain']):\n",
    "                sample_edge += [edge]\n",
    "        if len(sample_edge)<1: # no haplotype for this sample at this place the go to the reference one\n",
    "            for edge in edgelist:\n",
    "                if ref in set(graph.edges[edge]['strain']):\n",
    "                    break\n",
    "            \n",
    "        elif len(sample_edge) == 1:\n",
    "            edge = sample_edge[0]\n",
    "        else:\n",
    "            # find the most supported edge\n",
    "            read_count = [len(graph.edges[e]['reads']) for e in sample_edge]\n",
    "\n",
    "            index = numpy.argmax(read_count)\n",
    "\n",
    "            edge = sample_edge[index]\n",
    "\n",
    "\n",
    "        Path += [src, edge]\n",
    "\n",
    "        visited.add(src)\n",
    "\n",
    "        src = graph.outgoing[edge][0]\n",
    "\n",
    "        assert src.startswith(\"A\") or src == \"SINK\"\n",
    "\n",
    "        if src in visited:\n",
    "            break\n",
    "\n",
    "    reconstruct = ''\n",
    "    for item in Path:\n",
    "        if item == \"SOURCE\":\n",
    "            reconstruct += \"\"\n",
    "        elif item.startswith('A'):\n",
    "            reconstruct += graph.anchor[item]['seq']\n",
    "        elif item.startswith(\"E\"):\n",
    "            reconstruct += graph.edges[item]['seq']\n",
    "        else:\n",
    "            print(item)\n",
    "            \n",
    "    return reconstruct, Path"
   ]
  },
  {
   "cell_type": "code",
   "execution_count": 35,
   "id": "b20ac168",
   "metadata": {},
   "outputs": [
    {
     "data": {
      "text/plain": [
       "'HG002'"
      ]
     },
     "execution_count": 35,
     "metadata": {},
     "output_type": "execute_result"
    }
   ],
   "source": [
    "sample"
   ]
  },
  {
   "cell_type": "code",
   "execution_count": 40,
   "id": "02c03f81",
   "metadata": {},
   "outputs": [],
   "source": [
    "# reads supporting this path\n",
    "sample = \"HG00438\"\n",
    "def read_sets_supporting_path(graph, sample, Path):\n",
    "    read_sets = set()\n",
    "    for item in Path:\n",
    "        if item.startswith(\"E\"):\n",
    "            readlist = graph.edges[item]['reads']\n",
    "            for read in readlist:\n",
    "                if read.endswith(sample):\n",
    "                    read_sets.add(read)\n",
    "    return read_sets"
   ]
  },
  {
   "cell_type": "code",
   "execution_count": 41,
   "id": "16b2cdc0",
   "metadata": {},
   "outputs": [
    {
     "data": {
      "text/plain": [
       "{'m64043_200710_174426/100074720/ccs_HG00438',\n",
       " 'm64043_200710_174426/103352008/ccs_HG00438',\n",
       " 'm64043_200710_174426/103743762/ccs_HG00438',\n",
       " 'm64043_200710_174426/109445286/ccs_HG00438',\n",
       " 'm64043_200710_174426/10946429/ccs_HG00438',\n",
       " 'm64043_200710_174426/1116/ccs_HG00438',\n",
       " 'm64043_200710_174426/111804746/ccs_HG00438',\n",
       " 'm64043_200710_174426/116654474/ccs_HG00438',\n",
       " 'm64043_200710_174426/11666850/ccs_HG00438',\n",
       " 'm64043_200710_174426/117309824/ccs_HG00438',\n",
       " 'm64043_200710_174426/118032691/ccs_HG00438',\n",
       " 'm64043_200710_174426/119931589/ccs_HG00438',\n",
       " 'm64043_200710_174426/120391219/ccs_HG00438',\n",
       " 'm64043_200710_174426/120522738/ccs_HG00438',\n",
       " 'm64043_200710_174426/120784443/ccs_HG00438',\n",
       " 'm64043_200710_174426/12518004/ccs_HG00438',\n",
       " 'm64043_200710_174426/125305117/ccs_HG00438',\n",
       " 'm64043_200710_174426/125569156/ccs_HG00438',\n",
       " 'm64043_200710_174426/133498649/ccs_HG00438',\n",
       " 'm64043_200710_174426/133761440/ccs_HG00438',\n",
       " 'm64043_200710_174426/13960288/ccs_HG00438',\n",
       " 'm64043_200710_174426/144181639/ccs_HG00438',\n",
       " 'm64043_200710_174426/148768954/ccs_HG00438',\n",
       " 'm64043_200710_174426/149358769/ccs_HG00438',\n",
       " 'm64043_200710_174426/150209712/ccs_HG00438',\n",
       " 'm64043_200710_174426/150471150/ccs_HG00438',\n",
       " 'm64043_200710_174426/159252689/ccs_HG00438',\n",
       " 'm64043_200710_174426/159515528/ccs_HG00438',\n",
       " 'm64043_200710_174426/160696690/ccs_HG00438',\n",
       " 'm64043_200710_174426/161874122/ccs_HG00438',\n",
       " 'm64043_200710_174426/164758170/ccs_HG00438',\n",
       " 'm64043_200710_174426/166200419/ccs_HG00438',\n",
       " 'm64043_200710_174426/16778381/ccs_HG00438',\n",
       " 'm64043_200710_174426/170984852/ccs_HG00438',\n",
       " 'm64043_200710_174426/18743802/ccs_HG00438',\n",
       " 'm64043_200710_174426/23333143/ccs_HG00438',\n",
       " 'm64043_200710_174426/31458739/ccs_HG00438',\n",
       " 'm64043_200710_174426/31524636/ccs_HG00438',\n",
       " 'm64043_200710_174426/32899081/ccs_HG00438',\n",
       " 'm64043_200710_174426/33688151/ccs_HG00438',\n",
       " 'm64043_200710_174426/34406403/ccs_HG00438',\n",
       " 'm64043_200710_174426/36045408/ccs_HG00438',\n",
       " 'm64043_200710_174426/42795681/ccs_HG00438',\n",
       " 'm64043_200710_174426/46071965/ccs_HG00438',\n",
       " 'm64043_200710_174426/51446734/ccs_HG00438',\n",
       " 'm64043_200710_174426/5702750/ccs_HG00438',\n",
       " 'm64043_200710_174426/60098866/ccs_HG00438',\n",
       " 'm64043_200710_174426/66193472/ccs_HG00438',\n",
       " 'm64043_200710_174426/67567931/ccs_HG00438',\n",
       " 'm64043_200710_174426/71763007/ccs_HG00438',\n",
       " 'm64043_200710_174426/72681259/ccs_HG00438',\n",
       " 'm64043_200710_174426/7276040/ccs_HG00438',\n",
       " 'm64043_200710_174426/80019972/ccs_HG00438',\n",
       " 'm64043_200710_174426/80216732/ccs_HG00438',\n",
       " 'm64043_200710_174426/81593563/ccs_HG00438',\n",
       " 'm64043_200710_174426/85592255/ccs_HG00438',\n",
       " 'm64043_200710_174426/87032503/ccs_HG00438',\n",
       " 'm64043_200710_174426/8783293/ccs_HG00438',\n",
       " 'm64043_200710_174426/95420494/ccs_HG00438',\n",
       " 'm64043_200710_174426/98567163/ccs_HG00438',\n",
       " 'm64043_200710_174426/9897594/ccs_HG00438'}"
      ]
     },
     "execution_count": 41,
     "metadata": {},
     "output_type": "execute_result"
    }
   ],
   "source": [
    "read_sets_supporting_path(graph,sample, Path)"
   ]
  },
  {
   "cell_type": "code",
   "execution_count": 30,
   "id": "6a45e008",
   "metadata": {},
   "outputs": [
    {
     "data": {
      "text/plain": [
       "{'012920.1',\n",
       " 'HG00438',\n",
       " 'HG00673',\n",
       " 'HG00733',\n",
       " 'HG00735',\n",
       " 'HG01109',\n",
       " 'HG01123',\n",
       " 'HG01175',\n",
       " 'HG01243',\n",
       " 'HG01258',\n",
       " 'HG01358',\n",
       " 'HG01361',\n",
       " 'HG01891',\n",
       " 'HG01952',\n",
       " 'HG02055',\n",
       " 'HG02080',\n",
       " 'HG02109',\n",
       " 'HG02145',\n",
       " 'HG02148',\n",
       " 'HG02257',\n",
       " 'HG02572',\n",
       " 'HG02630',\n",
       " 'HG02717',\n",
       " 'HG02723',\n",
       " 'HG02818',\n",
       " 'HG02886',\n",
       " 'HG03453',\n",
       " 'HG03486',\n",
       " 'HG03492',\n",
       " 'HG03516',\n",
       " 'HG03540',\n",
       " 'HG03579',\n",
       " 'NA18906',\n",
       " 'NA19240',\n",
       " 'NA20129',\n",
       " 'NA21309'}"
      ]
     },
     "execution_count": 30,
     "metadata": {},
     "output_type": "execute_result"
    }
   ],
   "source": [
    "strain = set()\n",
    "for edge in graph.outgoing[\"SOURCE\"]:\n",
    "    strain = strain | set(graph.edges[edge]['strain'])\n",
    "strain"
   ]
  },
  {
   "cell_type": "code",
   "execution_count": 32,
   "id": "dbb044be",
   "metadata": {},
   "outputs": [],
   "source": [
    "reconstruct, Path = find_most_supported_path(graph, sample)"
   ]
  },
  {
   "cell_type": "code",
   "execution_count": 43,
   "id": "95f90b6c",
   "metadata": {},
   "outputs": [],
   "source": [
    "# Path"
   ]
  },
  {
   "cell_type": "code",
   "execution_count": 44,
   "id": "2bda8433",
   "metadata": {},
   "outputs": [
    {
     "data": {
      "text/plain": [
       "{'pos': 9, 'seq': 'GTCTATCACCCTATTAACCACTCACGGGAGC'}"
      ]
     },
     "execution_count": 44,
     "metadata": {},
     "output_type": "execute_result"
    }
   ],
   "source": [
    "graph.anchor['A000001']"
   ]
  },
  {
   "cell_type": "code",
   "execution_count": 35,
   "id": "dc8733b9",
   "metadata": {},
   "outputs": [],
   "source": [
    "Anchor_dict, Edge_dict = reconstruct_sample_subgraph(graph, samplelist, \"test.hg002.gfa\")"
   ]
  },
  {
   "cell_type": "code",
   "execution_count": 43,
   "id": "58fb6a9a",
   "metadata": {},
   "outputs": [],
   "source": [
    " #graph.edges['E11922.0007'], graph.nodes['A000534']"
   ]
  },
  {
   "cell_type": "code",
   "execution_count": 44,
   "id": "77efeaf4",
   "metadata": {},
   "outputs": [
    {
     "data": {
      "text/plain": [
       "(16569, 'CACGTTCCCCTTAAATAAGACATCACGATG')"
      ]
     },
     "execution_count": 44,
     "metadata": {},
     "output_type": "execute_result"
    }
   ],
   "source": [
    "16538+31, contig[16538+1:16538 +1+ 31]"
   ]
  },
  {
   "cell_type": "code",
   "execution_count": 45,
   "id": "d4f03854",
   "metadata": {},
   "outputs": [],
   "source": [
    "nodelist = list(graph.nodes.keys())\n",
    "ref_contig = \"+\" + contig\n",
    "for node in nodelist:\n",
    "    seq = graph.nodes[node]['seq']\n",
    "    pos = int(graph.nodes[node]['pos'])\n",
    "    assert seq == ref_contig[pos:pos + 31], print(node)"
   ]
  },
  {
   "cell_type": "code",
   "execution_count": 46,
   "id": "cb2edb0b",
   "metadata": {},
   "outputs": [
    {
     "data": {
      "text/plain": [
       "('A000533',\n",
       " 'TAAAGCCTAAATAGCCCACACGTTCCCCTTA',\n",
       " 16522,\n",
       " 'TAAAGCCTAAATAGCCCACACGTTCCCCTTA')"
      ]
     },
     "execution_count": 46,
     "metadata": {},
     "output_type": "execute_result"
    }
   ],
   "source": [
    "node, graph.nodes[node]['seq'], pos, ref_contig[pos:pos + 31]"
   ]
  },
  {
   "cell_type": "code",
   "execution_count": 12,
   "id": "2c8bb516",
   "metadata": {},
   "outputs": [],
   "source": [
    "#graph.edges['E00000.0047']"
   ]
  },
  {
   "cell_type": "code",
   "execution_count": null,
   "id": "ceea9462",
   "metadata": {},
   "outputs": [],
   "source": []
  }
 ],
 "metadata": {
  "kernelspec": {
   "display_name": "Python 3 (ipykernel)",
   "language": "python",
   "name": "python3"
  },
  "language_info": {
   "codemirror_mode": {
    "name": "ipython",
    "version": 3
   },
   "file_extension": ".py",
   "mimetype": "text/x-python",
   "name": "python",
   "nbconvert_exporter": "python",
   "pygments_lexer": "ipython3",
   "version": "3.7.9"
  }
 },
 "nbformat": 4,
 "nbformat_minor": 5
}
